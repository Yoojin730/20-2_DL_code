{
 "cells": [
  {
   "cell_type": "code",
   "execution_count": 1,
   "metadata": {},
   "outputs": [
    {
     "name": "stdout",
     "output_type": "stream",
     "text": [
      "3.8.3\n"
     ]
    }
   ],
   "source": [
    "from platform import python_version\n",
    "\n",
    "print(python_version())"
   ]
  },
  {
   "cell_type": "code",
   "execution_count": 2,
   "metadata": {},
   "outputs": [],
   "source": [
    "# Example 1: Linear Regression\n",
    "# 1.1 Importing tensorflow and other libraries.\n",
    "import tensorflow as tf\n",
    "import numpy as np\n",
    "\n",
    "%matplotlib inline\n",
    "import pylab"
   ]
  },
  {
   "cell_type": "code",
   "execution_count": 3,
   "metadata": {},
   "outputs": [
    {
     "name": "stdout",
     "output_type": "stream",
     "text": [
      "[0.542298   0.1085061  0.7082021  0.7690751  0.39596435 0.5831841\n",
      " 0.74155706 0.7865743  0.6256951  0.26233947 0.03016218 0.18756638\n",
      " 0.34326768 0.03834718 0.36572152 0.6850275  0.72532743 0.41222566\n",
      " 0.37075374 0.5466945  0.7886116  0.5704225  0.7024414  0.60876715\n",
      " 0.1197695  0.19576773 0.565232   0.7048797  0.8091863  0.63873136\n",
      " 0.624681   0.42250767 0.67118585 0.26525056 0.22270797 0.74420494\n",
      " 0.07362155 0.16944227 0.11330678 0.00907614 0.78918546 0.57006294\n",
      " 0.853855   0.18404184 0.8770662  0.96617085 0.29434836 0.48041183\n",
      " 0.9612334  0.49924168 0.34111813 0.9322493  0.50948864 0.16592394\n",
      " 0.10278718 0.65344536 0.75569445 0.02861613 0.15902941 0.614668\n",
      " 0.22311383 0.8037267  0.77202886 0.7810761  0.13045405 0.13806954\n",
      " 0.10194707 0.8639759  0.39700177 0.70329595 0.9603598  0.46914217\n",
      " 0.5424458  0.8970422  0.40328652 0.7137272  0.9604229  0.4593635\n",
      " 0.37109917 0.2748379  0.86360615 0.1640708  0.05750414 0.55881894\n",
      " 0.23621024 0.18796542 0.726611   0.18133849 0.7238858  0.41966572\n",
      " 0.80571085 0.7511316  0.25059795 0.43972537 0.6003407  0.65922725\n",
      " 0.8817546  0.5362932  0.10497166 0.46482047]\n"
     ]
    },
    {
     "data": {
      "text/plain": [
       "[<matplotlib.lines.Line2D at 0x281c3a8cd00>]"
      ]
     },
     "execution_count": 3,
     "metadata": {},
     "output_type": "execute_result"
    },
    {
     "data": {
      "image/png": "[encoded data removed]",
      "text/plain": [
       "<Figure size 432x288 with 1 Axes>"
      ]
     },
     "metadata": {
      "needs_background": "light"
     },
     "output_type": "display_data"
    }
   ],
   "source": [
    "# 1.2 Creating input data using NumPy. y = x * 0.3 + 0.5 + noise\n",
    "x_data = np.random.rand(100).astype(np.float32)\n",
    "noise = np.random.normal(scale=0.01, size=len(x_data))\n",
    "print(x_data)\n",
    "y_data = 0.3 * x_data + 0.5 + noise\n",
    "\n",
    "pylab.plot(x_data, y_data, '.')"
   ]
  },
  {
   "cell_type": "code",
   "execution_count": 4,
   "metadata": {},
   "outputs": [
    {
     "name": "stdout",
     "output_type": "stream",
     "text": [
      "<tf.Variable 'Variable:0' shape=(1,) dtype=float32, numpy=array([0.36558783], dtype=float32)>\n",
      "<tf.Variable 'Variable:0' shape=(1,) dtype=float32, numpy=array([0.], dtype=float32)>\n",
      "tf.Tensor(\n",
      "[0.19825755 0.03966851 0.2589101  0.2811645  0.14475974 0.21320502\n",
      " 0.27110425 0.28756198 0.22874652 0.09590812 0.01102692 0.06857198\n",
      " 0.12549448 0.01401926 0.13370334 0.2504377  0.26517087 0.15070468\n",
      " 0.13554305 0.19986486 0.2883068  0.20853952 0.25680402 0.22255786\n",
      " 0.04378627 0.0715703  0.20664193 0.25769544 0.29582867 0.23351242\n",
      " 0.22837576 0.15446366 0.24537738 0.09697238 0.08141933 0.27207226\n",
      " 0.02691514 0.06194603 0.04142358 0.00331813 0.2885166  0.20840807\n",
      " 0.312159   0.06728346 0.32064474 0.3532203  0.10761018 0.17563272\n",
      " 0.35141522 0.18251668 0.12470864 0.340819   0.18626285 0.06065977\n",
      " 0.03757774 0.23889168 0.27627268 0.01046171 0.05813922 0.22471514\n",
      " 0.0815677  0.2938327  0.28224435 0.2855519  0.04769241 0.05047654\n",
      " 0.03727061 0.31585908 0.14513902 0.25711644 0.35109586 0.17151266\n",
      " 0.19831158 0.3279477  0.14743665 0.26092997 0.35111892 0.1679377\n",
      " 0.13566934 0.1004774  0.3157239  0.05998229 0.02102282 0.20429741\n",
      " 0.08635559 0.06871787 0.26564014 0.06629515 0.26464382 0.15342468\n",
      " 0.29455808 0.27460456 0.09161557 0.16075824 0.21947727 0.24100547\n",
      " 0.32235876 0.19606227 0.03837636 0.16993271], shape=(100,), dtype=float32)\n"
     ]
    }
   ],
   "source": [
    "# 1.3 Building inference graph.\n",
    "# Create Variables W and b that compute y_data = W * x_data + b\n",
    "W = tf.Variable(tf.random.uniform([1], 0.0, 1.0))\n",
    "b = tf.Variable(tf.zeros([1]))\n",
    "y = W * x_data + b\n",
    "\n",
    "print(W)\n",
    "print(b)\n",
    "print(y)"
   ]
  },
  {
   "cell_type": "code",
   "execution_count": 5,
   "metadata": {},
   "outputs": [],
   "source": [
    "# 1.4 Defining forward function and building training graph\n",
    "def forward(x):\n",
    "    return W * x + b\n",
    "\n",
    "learning_rate=0.5\n",
    "optimizer = tf.keras.optimizers.Adam(learning_rate)\n",
    "loss_fn = tf.keras.losses.MeanSquaredError()\n",
    "\n",
    "y_initial_values = y # Save initial values for plotting later.\n",
    "\n",
    "def train_step(inputs):\n",
    "    with tf.GradientTape() as tape:\n",
    "        y_pred = forward(inputs)\n",
    "        loss = loss_fn(y_data, y_pred)\n",
    "\n",
    "    gradients = tape.gradient(loss, [W,b])\n",
    "    optimizer.apply_gradients(zip(gradients, [W,b])) #\n",
    "    return loss"
   ]
  },
  {
   "cell_type": "code",
   "execution_count": 6,
   "metadata": {},
   "outputs": [
    {
     "name": "stdout",
     "output_type": "stream",
     "text": [
      "#0 \t W: [0.8655843] b: [0.4999983] loss: 0.21836023\n",
      "#20 \t W: [0.2514496] b: [0.6121733] loss: 0.019723224\n",
      "#40 \t W: [0.318173] b: [0.45943937] loss: 0.0002457089\n",
      "#60 \t W: [0.29277754] b: [0.50995] loss: 0.00017777152\n",
      "#80 \t W: [0.29618216] b: [0.4947034] loss: 0.00011507351\n",
      "#100 \t W: [0.30024207] b: [0.49767882] loss: 9.869411e-05\n",
      "#120 \t W: [0.29884037] b: [0.49928328] loss: 9.822004e-05\n",
      "#140 \t W: [0.29947] b: [0.49934897] loss: 9.8265315e-05\n",
      "#160 \t W: [0.29989856] b: [0.4994809] loss: 9.8187265e-05\n",
      "#180 \t W: [0.29979387] b: [0.49942616] loss: 9.8187076e-05\n",
      "#200 \t W: [0.29979047] b: [0.4994622] loss: 9.818658e-05\n",
      "tf.Tensor(\n",
      "[0.66203797 0.5319913  0.71177447 0.73002356 0.61816853 0.67429525\n",
      " 0.7217739  0.73526967 0.6870396  0.5781091  0.5085045  0.5556928\n",
      " 0.60237056 0.5109583  0.609102   0.7048269  0.71690845 0.62304354\n",
      " 0.6106106  0.663356   0.73588043 0.6704694  0.7100474  0.68196476\n",
      " 0.53536797 0.5581515  0.66891336 0.7107784  0.7420485  0.6909478\n",
      " 0.68673563 0.62612593 0.7006773  0.57898176 0.5662279  0.72256774\n",
      " 0.52153325 0.55025935 0.53343046 0.50218314 0.73605245 0.67036164\n",
      " 0.75543976 0.5546362  0.76239824 0.789111   0.587705   0.64348507\n",
      " 0.7876308  0.6491301  0.6017262  0.77894163 0.652202   0.5492046\n",
      " 0.5302768  0.6953589  0.7260122  0.508041   0.5471377  0.6837338\n",
      " 0.56634957 0.74041176 0.7309091  0.73362136 0.53857106 0.5408541\n",
      " 0.53002495 0.75847393 0.61847955 0.7103036  0.7873689  0.64010656\n",
      " 0.66208225 0.7683869  0.62036365 0.71343076 0.78738785 0.63717496\n",
      " 0.6107142  0.58185595 0.7583631  0.5486491  0.5167014  0.66699076\n",
      " 0.5702758  0.5558124  0.71729326 0.55382574 0.71647626 0.62527394\n",
      " 0.7410066  0.7246443  0.5745891  0.6312877  0.6794386  0.69709224\n",
      " 0.76380384 0.6602378  0.5309317  0.63881093], shape=(100,), dtype=float32)\n"
     ]
    }
   ],
   "source": [
    "# 1.5 Performing training and check forwarded ouputs after 200th iteration\n",
    "for step in range(201):\n",
    "    loss = train_step(x_data)\n",
    "    if step % 20 == 0:\n",
    "        print(\"#%s \\t W: %s b: %s loss: %s\" % (step, W.numpy(), b.numpy(), loss.numpy()))\n",
    "print(forward(x_data))"
   ]
  },
  {
   "cell_type": "code",
   "execution_count": 7,
   "metadata": {},
   "outputs": [
    {
     "data": {
      "text/plain": [
       "(0.0, 1.5)"
      ]
     },
     "execution_count": 7,
     "metadata": {},
     "output_type": "execute_result"
    },
    {
     "data": {
      "image/png": "[encoded data removed]",
      "text/plain": [
       "<Figure size 432x288 with 1 Axes>"
      ]
     },
     "metadata": {
      "needs_background": "light"
     },
     "output_type": "display_data"
    }
   ],
   "source": [
    "# 1.6 Comparing the initial regression line with the trained values.\n",
    "pylab.plot(x_data, y_data, '.', label=\"target_values\")\n",
    "pylab.plot(x_data, y_initial_values, \".\", label=\"initial_values\")\n",
    "pylab.plot(x_data, forward(x_data), \".\", label=\"trained_values\")\n",
    "pylab.legend()\n",
    "pylab.ylim(0, 1.5)"
   ]
  },
  {
   "cell_type": "code",
   "execution_count": null,
   "metadata": {},
   "outputs": [],
   "source": []
  }
 ],
 "metadata": {
  "anaconda-cloud": {},
  "kernelspec": {
   "display_name": "Python 3",
   "language": "python",
   "name": "python3"
  },
  "language_info": {
   "codemirror_mode": {
    "name": "ipython",
    "version": 3
   },
   "file_extension": ".py",
   "mimetype": "text/x-python",
   "name": "python",
   "nbconvert_exporter": "python",
   "pygments_lexer": "ipython3",
   "version": "3.7.6"
  }
 },
 "nbformat": 4,
 "nbformat_minor": 1
}
