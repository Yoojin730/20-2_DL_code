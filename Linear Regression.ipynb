{
 "cells": [
  {
   "cell_type": "code",
   "execution_count": 1,
   "metadata": {},
   "outputs": [
    {
     "name": "stdout",
     "output_type": "stream",
     "text": [
      "3.7.6\n"
     ]
    }
   ],
   "source": [
    "from platform import python_version\n",
    "print(python_version())"
   ]
  },
  {
   "cell_type": "code",
   "execution_count": 3,
   "metadata": {},
   "outputs": [],
   "source": [
    "#Example 1 : Linear Regression\n",
    "#1.1  Importing tensorflow and other libraries\n",
    "import tensorflow as tf\n",
    "import numpy as np\n",
    "\n",
    "%matplotlib inline\n",
    "import pylab"
   ]
  },
  {
   "cell_type": "code",
   "execution_count": 5,
   "metadata": {},
   "outputs": [
    {
     "name": "stdout",
     "output_type": "stream",
     "text": [
      "[0.665011   0.80871135 0.76330626 0.1362676  0.6715624  0.20050693\n",
      " 0.28918296 0.42896223 0.903297   0.8625207  0.8157582  0.72460157\n",
      " 0.10903443 0.8016393  0.49961466 0.67278624 0.8044233  0.2596894\n",
      " 0.06161629 0.86357343 0.10896302 0.8859607  0.33098114 0.40738875\n",
      " 0.8773758  0.3232875  0.40938026 0.9739335  0.96205795 0.8689766\n",
      " 0.0716459  0.12815246 0.39164248 0.5768859  0.5713932  0.02606972\n",
      " 0.41382012 0.9994782  0.45017245 0.17055248 0.3611656  0.25087917\n",
      " 0.22174121 0.40304863 0.59431046 0.5987152  0.0199198  0.46077022\n",
      " 0.71134496 0.7657206  0.12520222 0.7214596  0.5536223  0.74656487\n",
      " 0.98365873 0.80793613 0.38492283 0.2003272  0.51498085 0.7601619\n",
      " 0.5386103  0.46849185 0.3764883  0.3161155  0.17459174 0.7563369\n",
      " 0.79129314 0.89088327 0.49293634 0.19104227 0.43613705 0.9272326\n",
      " 0.8119217  0.8973679  0.15112078 0.9546273  0.5939913  0.7066417\n",
      " 0.07443246 0.4065261  0.00617791 0.18554719 0.2957305  0.7472175\n",
      " 0.7447825  0.97634995 0.96427244 0.14852235 0.09701476 0.91726387\n",
      " 0.00646914 0.52826256 0.13999583 0.1485087  0.4370839  0.535347\n",
      " 0.33628756 0.21818766 0.8979042  0.71845907]\n"
     ]
    },
    {
     "data": {
      "text/plain": [
       "[<matplotlib.lines.Line2D at 0x226877f8b08>]"
      ]
     },
     "execution_count": 5,
     "metadata": {},
     "output_type": "execute_result"
    },
    {
     "data": {
      "image/png": "[encoded data removed]",
      "text/plain": [
       "<Figure size 432x288 with 1 Axes>"
      ]
     },
     "metadata": {
      "needs_background": "light"
     },
     "output_type": "display_data"
    }
   ],
   "source": [
    "#1.2 Creating input data using NumPy. y = x * 0.3 + 0.5 + noise\n",
    "x_data = np.random.rand(100).astype(np.float32)\n",
    "noise = np.random.normal(scale=0.01, size=len(x_data))\n",
    "print(x_data)\n",
    "y_data = 0.3 * x_data  + 0.5 + noise\n",
    "\n",
    "pylab.plot(x_data, y_data, '.')"
   ]
  },
  {
   "cell_type": "code",
   "execution_count": 7,
   "metadata": {},
   "outputs": [
    {
     "name": "stdout",
     "output_type": "stream",
     "text": [
      "<tf.Variable 'Variable:0' shape=(1,) dtype=float32, numpy=array([0.7416165], dtype=float32)>\n",
      "<tf.Variable 'Variable:0' shape=(1,) dtype=float32, numpy=array([0.], dtype=float32)>\n",
      "tf.Tensor(\n",
      "[0.4931831  0.5997537  0.5660805  0.1010583  0.49804172 0.14869924\n",
      " 0.21446285 0.31812546 0.66989994 0.6396596  0.60497975 0.53737646\n",
      " 0.08086172 0.59450895 0.37052247 0.49894938 0.5965736  0.19258994\n",
      " 0.04569566 0.6404403  0.08080877 0.65704304 0.24546106 0.3021262\n",
      " 0.65067637 0.23975533 0.30360314 0.72228515 0.713478   0.6444474\n",
      " 0.05313378 0.09503998 0.29044852 0.42782807 0.4237546  0.01933374\n",
      " 0.30689582 0.74122953 0.3338553  0.12648453 0.26784638 0.18605612\n",
      " 0.16444694 0.29890752 0.44075045 0.44401705 0.01477285 0.3417148\n",
      " 0.52754515 0.56787103 0.09285203 0.53504634 0.41057542 0.5536648\n",
      " 0.72949755 0.59917873 0.28546512 0.14856596 0.38191828 0.5637486\n",
      " 0.39944226 0.3474413  0.27920994 0.23443647 0.12948011 0.56091195\n",
      " 0.58683604 0.6606937  0.3655697  0.1416801  0.32344642 0.687651\n",
      " 0.6021345  0.66550285 0.11207366 0.70796734 0.44051373 0.5240571\n",
      " 0.05520033 0.30148646 0.00458164 0.13760485 0.21931861 0.5541488\n",
      " 0.552343   0.7240772  0.7151203  0.11014662 0.07194775 0.68025804\n",
      " 0.00479762 0.39176822 0.10382321 0.1101365  0.32414863 0.39702216\n",
      " 0.2493964  0.16181156 0.6659006  0.5328211 ], shape=(100,), dtype=float32)\n"
     ]
    }
   ],
   "source": [
    "#1.3 Building inference graph\n",
    "# Create Variables W and b that compute y_data = W * x_data + b\n",
    "W = tf.Variable(tf.random.uniform([1], 0.0, 1.0))\n",
    "b = tf.Variable(tf.zeros([1]))\n",
    "y = W * x_data + b\n",
    "\n",
    "print(W)\n",
    "print(b)\n",
    "print(y)"
   ]
  },
  {
   "cell_type": "code",
   "execution_count": 8,
   "metadata": {},
   "outputs": [],
   "source": [
    "#1.4 Defining forward function and building training graph\n",
    "def forward(x):\n",
    "    return W * x + b\n",
    " \n",
    "learning_rate = 0.5\n",
    "optimizer = tf.keras.optimizers.Adam(learning_rate)\n",
    "loss_fn = tf.keras.losses.MeanSquaredError()\n",
    "\n",
    "y_initial_values = y #Save initial values for plotting later.\n",
    "\n",
    "def train_step(inputs):\n",
    "    with tf.GradientTape() as tape:\n",
    "        y_pred = forward(inputs)\n",
    "        loss = loss_fn(y_data, y_pred)\n",
    "        \n",
    "    gradients = tape.gradient(loss, [W,b])\n",
    "    optimizer.apply_gradients(zip(gradients, [W,b]))\n",
    "    return loss"
   ]
  },
  {
   "cell_type": "code",
   "execution_count": 11,
   "metadata": {},
   "outputs": [
    {
     "name": "stdout",
     "output_type": "stream",
     "text": [
      "#0 Wt W: [0.98332626] b: [0.33907688] loss: 0.3134224\n",
      "#20 Wt W: [0.07737127] b: [0.5168907] loss: 0.004061797\n",
      "#40 Wt W: [0.32419315] b: [0.44468468] loss: 0.0031735706\n",
      "#60 Wt W: [0.30455437] b: [0.5146215] loss: 0.00041226842\n",
      "#80 Wt W: [0.29519096] b: [0.5008084] loss: 0.0001409661\n",
      "#100 Wt W: [0.3019258] b: [0.49606183] loss: 0.00010785293\n",
      "#120 Wt W: [0.30030996] b: [0.49845538] loss: 0.00010252079\n",
      "#140 Wt W: [0.30025843] b: [0.49924254] loss: 0.000101892285\n",
      "#160 Wt W: [0.30058858] b: [0.49915043] loss: 0.00010181258\n",
      "#180 Wt W: [0.30059] b: [0.49900246] loss: 0.00010180474\n",
      "#200 Wt W: [0.30062005] b: [0.4990396] loss: 0.00010180469\n",
      "tf.Tensor(\n",
      "[0.69895524 0.7421544  0.7285048  0.5400044  0.7009247  0.559316\n",
      " 0.5859738  0.62799424 0.77058876 0.7583306  0.7442729  0.71686935\n",
      " 0.53181756 0.74002844 0.64923376 0.70129263 0.74086535 0.5771074\n",
      " 0.5175627  0.7586471  0.53179604 0.76537716 0.5985392  0.62150884\n",
      " 0.76279634 0.5962263  0.6221075  0.7918235  0.7882535  0.7602714\n",
      " 0.5205778  0.5375648  0.61677516 0.67246306 0.67081183 0.50687665\n",
      " 0.62344223 0.7995028  0.63437045 0.5503111  0.6076132  0.5744589\n",
      " 0.56569946 0.6202041  0.67770123 0.6790254  0.5050279  0.6375564\n",
      " 0.7128841  0.7292305  0.5366779  0.7159248  0.6654695  0.72347194\n",
      " 0.7947471  0.7419214  0.6147551  0.559262   0.6538532  0.7275595\n",
      " 0.6609566  0.6398776  0.6122195  0.59407026 0.55152535 0.7264096\n",
      " 0.7369182  0.76685697 0.64722615 0.55647075 0.63015115 0.77778435\n",
      " 0.74311954 0.76880634 0.54446954 0.7860197  0.6776053  0.71147025\n",
      " 0.5214155  0.6212495  0.5008968  0.5548188  0.5879421  0.72366816\n",
      " 0.72293615 0.79254997 0.7889192  0.5436884  0.5282042  0.7747875\n",
      " 0.5009844  0.6578459  0.5411251  0.5436843  0.63043576 0.65997565\n",
      " 0.6001344  0.56463116 0.7689676  0.7150228 ], shape=(100,), dtype=float32)\n"
     ]
    }
   ],
   "source": [
    "#1.5 Performing training and check forwarded outputs after 200th iteration\n",
    "for step in range(201):\n",
    "    loss = train_step(x_data)\n",
    "    if step % 20 == 0 :\n",
    "        print(\"#%s Wt W: %s b: %s loss: %s\" % (step, W.numpy(), b.numpy(), loss.numpy()))\n",
    "print(forward(x_data))"
   ]
  },
  {
   "cell_type": "code",
   "execution_count": 12,
   "metadata": {},
   "outputs": [
    {
     "data": {
      "text/plain": [
       "(0, 1.5)"
      ]
     },
     "execution_count": 12,
     "metadata": {},
     "output_type": "execute_result"
    },
    {
     "data": {
      "image/png": "[encoded data removed]",
      "text/plain": [
       "<Figure size 432x288 with 1 Axes>"
      ]
     },
     "metadata": {
      "needs_background": "light"
     },
     "output_type": "display_data"
    }
   ],
   "source": [
    "#1.6 Comparing the initial regression \n",
    "pylab.plot(x_data, y_data, '.', label=\"target_values\")\n",
    "pylab.plot(x_data, y_initial_values, \".\", label=\"initial_values\")\n",
    "pylab.plot(x_data, forward(x_data), \".\", label=\"trained_values\")\n",
    "pylab.legend()\n",
    "pylab.ylim(0,1.5)"
   ]
  },
  {
   "cell_type": "code",
   "execution_count": null,
   "metadata": {},
   "outputs": [],
   "source": []
  }
 ],
 "metadata": {
  "kernelspec": {
   "display_name": "Python 3",
   "language": "python",
   "name": "python3"
  },
  "language_info": {
   "codemirror_mode": {
    "name": "ipython",
    "version": 3
   },
   "file_extension": ".py",
   "mimetype": "text/x-python",
   "name": "python",
   "nbconvert_exporter": "python",
   "pygments_lexer": "ipython3",
   "version": "3.7.6"
  }
 },
 "nbformat": 4,
 "nbformat_minor": 4
}
