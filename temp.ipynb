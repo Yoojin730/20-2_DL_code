{
 "cells": [
  {
   "cell_type": "code",
   "execution_count": 1,
   "metadata": {},
   "outputs": [],
   "source": [
    "import tensorflow as tf\n",
    "\n",
    "from tensorflow.keras import datasets, layers, models\n",
    "import matplotlib.pyplot as plt\n",
    "import pandas as pd\n",
    "import numpy as np\n",
    "import keras as keras"
   ]
  },
  {
   "cell_type": "code",
   "execution_count": 2,
   "metadata": {},
   "outputs": [],
   "source": [
    "x1 = ([[0.4,0.9,0.6,0.6,0.8,0.7],\n",
    "      [0.4,0.5,0.7,0.6,0.7,0.6],\n",
    "      [0.5,0.8,0.9,0.5,0.7,0.7],\n",
    "      [0.4,0.7,0.6,0.6,0.6,0.8],\n",
    "      [0.4,0.4,0.9,0.7,0.7,0.7],\n",
    "      [0.6,0.5,0.7,0.4,0.9,0.7]])"
   ]
  },
  {
   "cell_type": "code",
   "execution_count": 3,
   "metadata": {},
   "outputs": [],
   "source": [
    "x2 = ([[0.3,0.4,0.4,0.2,0.3,0.0],\n",
    "       [0.1,0.3,0.3,0.1,0.4,0.1],\n",
    "       [0.4,0.1,0.3,0.2,0.4,0.2],\n",
    "       [0.1,0.0,0.3,0.0,0.3,0.2],\n",
    "       [0.0,0.2,0.2,0.4,0.0,0.0],\n",
    "       [0.3,0.4,0.1,0.1,0.2,0.1]])"
   ]
  },
  {
   "cell_type": "code",
   "execution_count": 4,
   "metadata": {},
   "outputs": [],
   "source": [
    "def my_filter1(shape, dtype=None):\n",
    "    kernel = np.zeros(shape)\n",
    "    kernel[:,:,0,0] = np.array([[0,1,0],[0,1,0],[0,1,0]])\n",
    "    return kernel\n",
    "\n",
    "def my_filter2(shape, dtype=None):\n",
    "    kernel = np.zeros(shape)\n",
    "    kernel[:,:,0,0] = np.array([[1,1,1,1],[1,1,1,1],[1,1,1,1],[1,1,1,1]])\n",
    "    return kernel"
   ]
  },
  {
   "cell_type": "code",
   "execution_count": 6,
   "metadata": {},
   "outputs": [
    {
     "name": "stdout",
     "output_type": "stream",
     "text": [
      "<tensorflow.python.keras.engine.sequential.Sequential object at 0x000001DAC412C048>\n",
      "<tensorflow.python.keras.engine.sequential.Sequential object at 0x000001DAC412C048>\n",
      "<tensorflow.python.keras.engine.sequential.Sequential object at 0x000001DAC412C048>\n",
      "<tensorflow.python.keras.engine.sequential.Sequential object at 0x000001DAC412C048>\n",
      "Model: \"sequential_1\"\n",
      "_________________________________________________________________\n",
      "Layer (type)                 Output Shape              Param #   \n",
      "=================================================================\n",
      "conv2d_2 (Conv2D)            (None, 4, 4, 16)          160       \n",
      "_________________________________________________________________\n",
      "max_pooling2d_1 (MaxPooling2 (None, 2, 2, 16)          0         \n",
      "_________________________________________________________________\n",
      "zero_padding2d_1 (ZeroPaddin (None, 4, 4, 16)          0         \n",
      "_________________________________________________________________\n",
      "re_lu_1 (ReLU)               (None, 4, 4, 16)          0         \n",
      "_________________________________________________________________\n",
      "conv2d_3 (Conv2D)            (None, 1, 1, 16)          4112      \n",
      "=================================================================\n",
      "Total params: 4,272\n",
      "Trainable params: 4,272\n",
      "Non-trainable params: 0\n",
      "_________________________________________________________________\n"
     ]
    }
   ],
   "source": [
    "model = models.Sequential()\n",
    "model.add(layers.Conv2D(16,\n",
    "                        kernel_size = 3, \n",
    "                        kernel_initializer=my_filter1,\n",
    "                        strides = (1,1), \n",
    "                        input_shape=(6, 6, 1)))\n",
    "model\n",
    "model.add(layers.MaxPooling2D((2, 2), \n",
    "                              padding = 'same', \n",
    "                              strides = (2,2)))\n",
    "print(model)\n",
    "model.add(layers.ZeroPadding2D(padding=(1, 1)))\n",
    "print(model)\n",
    "model.add(layers.ReLU(max_value=0.7))\n",
    "print(model)\n",
    "model.add(layers.Conv2D(16, \n",
    "                        kernel_size = 4,\n",
    "                        kernel_initializer = my_filter2, \n",
    "                        strides = (1,1)))\n",
    "print(model)\n",
    "model.summary()"
   ]
  }
 ],
 "metadata": {
  "kernelspec": {
   "display_name": "Python 3",
   "language": "python",
   "name": "python3"
  },
  "language_info": {
   "codemirror_mode": {
    "name": "ipython",
    "version": 3
   },
   "file_extension": ".py",
   "mimetype": "text/x-python",
   "name": "python",
   "nbconvert_exporter": "python",
   "pygments_lexer": "ipython3",
   "version": "3.7.6"
  }
 },
 "nbformat": 4,
 "nbformat_minor": 2
}
