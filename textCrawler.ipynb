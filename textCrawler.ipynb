{
 "cells": [
  {
   "cell_type": "markdown",
   "metadata": {},
   "source": [
    "# Text crawler example\n",
    "In this Python notebook we implement a text crawler through selenium\n",
    "\n",
    "For more learning tutorials, see:\n",
    "https://github.com/hyeshinoh/Study_Web"
   ]
  },
  {
   "cell_type": "code",
   "execution_count": 3,
   "metadata": {},
   "outputs": [],
   "source": [
    "from selenium import webdriver\n",
    "import pandas as pd "
   ]
  },
  {
   "cell_type": "markdown",
   "metadata": {},
   "source": [
    "### 1. Set url and define webdriver (go to gmarket best page)"
   ]
  },
  {
   "cell_type": "code",
   "execution_count": 4,
   "metadata": {},
   "outputs": [],
   "source": [
    "url = \"http://corners.gmarket.co.kr/Bestsellers\"\n",
    "driver = webdriver.Chrome('C:\\chromedriver.exe') \n",
    "driver.get(url)\n"
   ]
  },
  {
   "cell_type": "markdown",
   "metadata": {},
   "source": [
    "### 2. Specfiy html \n",
    "best-list: can be found in html source\n",
    "\n",
    "nth-child(3):selector matches every element that is the nth child, regardless of type, of its parent. n can be a number, a keyword, or a formula\n",
    "\n",
    "ul:item list with no order\n",
    "\n",
    "li:sub item list"
   ]
  },
  {
   "cell_type": "code",
   "execution_count": 6,
   "metadata": {},
   "outputs": [
    {
     "data": {
      "text/plain": [
       "200"
      ]
     },
     "execution_count": 6,
     "metadata": {},
     "output_type": "execute_result"
    }
   ],
   "source": [
    "items = driver.find_elements_by_css_selector(\".best-list:nth-child(3) > ul > li\")\n",
    "\n",
    "len(items)"
   ]
  },
  {
   "cell_type": "markdown",
   "metadata": {},
   "source": [
    "### 3. Construct list \n",
    "itemname, s-price, o-price can be found in htlml source"
   ]
  },
  {
   "cell_type": "code",
   "execution_count": 7,
   "metadata": {},
   "outputs": [
    {
     "data": {
      "text/html": [
       "<div>\n",
       "<style scoped>\n",
       "    .dataframe tbody tr th:only-of-type {\n",
       "        vertical-align: middle;\n",
       "    }\n",
       "\n",
       "    .dataframe tbody tr th {\n",
       "        vertical-align: top;\n",
       "    }\n",
       "\n",
       "    .dataframe thead th {\n",
       "        text-align: right;\n",
       "    }\n",
       "</style>\n",
       "<table border=\"1\" class=\"dataframe\">\n",
       "  <thead>\n",
       "    <tr style=\"text-align: right;\">\n",
       "      <th></th>\n",
       "      <th>title</th>\n",
       "      <th>s price</th>\n",
       "      <th>o price</th>\n",
       "      <th>link</th>\n",
       "    </tr>\n",
       "  </thead>\n",
       "  <tbody>\n",
       "    <tr>\n",
       "      <th>195</th>\n",
       "      <td>[배스킨라빈스](배스킨라빈스) 선물을 전하는 산타 썰매</td>\n",
       "      <td>21600</td>\n",
       "      <td>27000</td>\n",
       "      <td>http://item.gmarket.co.kr/Item?goodscode=19543...</td>\n",
       "    </tr>\n",
       "    <tr>\n",
       "      <th>196</th>\n",
       "      <td>[올리비아로렌]FW 겨울특가 코트/다운점퍼/니트외 최대22%쿠폰</td>\n",
       "      <td>17900</td>\n",
       "      <td>59600</td>\n",
       "      <td>http://item.gmarket.co.kr/Item?goodscode=16557...</td>\n",
       "    </tr>\n",
       "    <tr>\n",
       "      <th>197</th>\n",
       "      <td>제주안심밥상 돼지 LA식 갈비구이살 300g 3팩 총900g</td>\n",
       "      <td>6900</td>\n",
       "      <td>11500</td>\n",
       "      <td>http://item.gmarket.co.kr/Item?goodscode=15154...</td>\n",
       "    </tr>\n",
       "    <tr>\n",
       "      <th>198</th>\n",
       "      <td>[네파키즈](신세계강남점)[네파키즈]20겨울신상 스트라다(기모) 세트-KGF5901</td>\n",
       "      <td>40410</td>\n",
       "      <td>51800</td>\n",
       "      <td>http://item.gmarket.co.kr/Item?goodscode=18883...</td>\n",
       "    </tr>\n",
       "    <tr>\n",
       "      <th>199</th>\n",
       "      <td>신상 여성가방 2개 구매시 뽀글이 파우치 1개 증정</td>\n",
       "      <td>14900</td>\n",
       "      <td>49600</td>\n",
       "      <td>http://item.gmarket.co.kr/Item?goodscode=79593...</td>\n",
       "    </tr>\n",
       "  </tbody>\n",
       "</table>\n",
       "</div>"
      ],
      "text/plain": [
       "                                              title s price o price  \\\n",
       "195                  [배스킨라빈스](배스킨라빈스) 선물을 전하는 산타 썰매   21600   27000   \n",
       "196             [올리비아로렌]FW 겨울특가 코트/다운점퍼/니트외 최대22%쿠폰   17900   59600   \n",
       "197               제주안심밥상 돼지 LA식 갈비구이살 300g 3팩 총900g    6900   11500   \n",
       "198  [네파키즈](신세계강남점)[네파키즈]20겨울신상 스트라다(기모) 세트-KGF5901   40410   51800   \n",
       "199                    신상 여성가방 2개 구매시 뽀글이 파우치 1개 증정   14900   49600   \n",
       "\n",
       "                                                  link  \n",
       "195  http://item.gmarket.co.kr/Item?goodscode=19543...  \n",
       "196  http://item.gmarket.co.kr/Item?goodscode=16557...  \n",
       "197  http://item.gmarket.co.kr/Item?goodscode=15154...  \n",
       "198  http://item.gmarket.co.kr/Item?goodscode=18883...  \n",
       "199  http://item.gmarket.co.kr/Item?goodscode=79593...  "
      ]
     },
     "execution_count": 7,
     "metadata": {},
     "output_type": "execute_result"
    }
   ],
   "source": [
    "dict_list = []\n",
    "for item in items:\n",
    "    dict_list.append({\n",
    "        \"title\": item.find_element_by_css_selector(\".itemname\").text,\n",
    "        \"s price\": item.find_element_by_css_selector(\".s-price\").text.split(\" \")[0].replace(\",\",\"\")[:-1],\n",
    "        \"o price\": item.find_element_by_css_selector(\".o-price\").text.split(\" \")[0].replace(\",\",\"\")[:-1],\n",
    "        \"link\": item.find_element_by_css_selector(\".itemname\").get_attribute(\"href\")\n",
    "    })\n",
    "\n",
    "df = pd.DataFrame(dict_list)\n",
    "df.tail()"
   ]
  },
  {
   "cell_type": "code",
   "execution_count": 8,
   "metadata": {},
   "outputs": [],
   "source": [
    "is_nodata = df[\"o price\"] == \"\""
   ]
  },
  {
   "cell_type": "code",
   "execution_count": 9,
   "metadata": {},
   "outputs": [
    {
     "data": {
      "text/plain": [
       "2      50000\n",
       "13     49900\n",
       "43     41900\n",
       "46     29900\n",
       "48     49800\n",
       "52     39900\n",
       "56     38900\n",
       "68     10000\n",
       "77     59000\n",
       "78     45000\n",
       "81     42900\n",
       "83     53400\n",
       "99     59000\n",
       "108    39000\n",
       "119    60900\n",
       "120    37900\n",
       "130    20900\n",
       "136    69000\n",
       "146    49000\n",
       "154    27900\n",
       "157    31900\n",
       "166    38000\n",
       "171    26900\n",
       "181    35900\n",
       "186    39900\n",
       "187    10800\n",
       "188    22900\n",
       "Name: s price, dtype: object"
      ]
     },
     "execution_count": 9,
     "metadata": {},
     "output_type": "execute_result"
    }
   ],
   "source": [
    "df[\"s price\"][is_nodata]"
   ]
  },
  {
   "cell_type": "code",
   "execution_count": 10,
   "metadata": {},
   "outputs": [],
   "source": [
    "driver.quit()"
   ]
  },
  {
   "cell_type": "code",
   "execution_count": null,
   "metadata": {},
   "outputs": [],
   "source": []
  }
 ],
 "metadata": {
  "anaconda-cloud": {},
  "kernelspec": {
   "display_name": "Python 3",
   "language": "python",
   "name": "python3"
  },
  "language_info": {
   "codemirror_mode": {
    "name": "ipython",
    "version": 3
   },
   "file_extension": ".py",
   "mimetype": "text/x-python",
   "name": "python",
   "nbconvert_exporter": "python",
   "pygments_lexer": "ipython3",
   "version": "3.7.6"
  }
 },
 "nbformat": 4,
 "nbformat_minor": 1
}
